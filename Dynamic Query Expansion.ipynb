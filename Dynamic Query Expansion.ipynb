{
 "cells": [
  {
   "cell_type": "markdown",
   "metadata": {},
   "source": [
    "# Dynamic Query Expansion"
   ]
  },
  {
   "cell_type": "markdown",
   "metadata": {},
   "source": [
    "This is an implementation of the Dynamic Query Expansion Algorithm for Twitter Data as explained in \n",
    "\"Unsupervised Spatial Event Detection in Targeted Domains with Applications to Civil Unrest Modeling\" by Liang Zhao et al."
   ]
  },
  {
   "cell_type": "markdown",
   "metadata": {},
   "source": [
    "The implementation is done in python 2.7.6 and it's dependencies are libraries json,nltk,numpy and scipy."
   ]
  },
  {
   "cell_type": "code",
   "execution_count": 16,
   "metadata": {
    "collapsed": true
   },
   "outputs": [],
   "source": [
    "#!/usr/bin/python\n",
    "# -*- coding: utf-8 -*-\n",
    "import json\n",
    "import io\n",
    "import ast\n",
    "from collections import defaultdict\n",
    "from nltk.tokenize import TweetTokenizer\n",
    "import numpy\n",
    "from scipy.sparse import lil_matrix"
   ]
  },
  {
   "cell_type": "markdown",
   "metadata": {},
   "source": [
    "Loading Data from a precollected collection of tweets in a json File which is stored in a unicode format"
   ]
  },
  {
   "cell_type": "markdown",
   "metadata": {},
   "source": []
  },
  {
   "cell_type": "code",
   "execution_count": 17,
   "metadata": {
    "collapsed": false
   },
   "outputs": [],
   "source": [
    "filename='raw_tweets2.json'\n",
    "data_json = io.open(filename, mode='r', encoding='utf-8').read() #reads in the JSON file\n",
    "data_python = json.loads(data_json)"
   ]
  },
  {
   "cell_type": "code",
   "execution_count": 18,
   "metadata": {
    "collapsed": true
   },
   "outputs": [],
   "source": [
    "#dictionary to capture the frequency of every tweet feature like token,hashtag,url etc.. \n",
    "#will be used to find IDF for said features\n",
    "features_freq=defaultdict(float)\n",
    "\n",
    "#NLTK tokenizer for tweets which strips handles from the tweet text and reduces repetition of letters\n",
    "tknzr = TweetTokenizer(strip_handles=True, reduce_len=True)"
   ]
  },
  {
   "cell_type": "markdown",
   "metadata": {},
   "source": [
    "Collecting frequencies of features for IDF identity matrix(Df)"
   ]
  },
  {
   "cell_type": "code",
   "execution_count": 19,
   "metadata": {
    "collapsed": true
   },
   "outputs": [],
   "source": [
    "count_tweets=0 #Count for number of tweets in Colombia\n",
    "for line in data_python:\n",
    "        d = ast.literal_eval(line)\n",
    "        if d['location']=='CO': #Since the bounding box contains more countries, apart from Colombia\n",
    "            count_tweets+=1 \n",
    "            features_freq[d['name']]+=1.0 #adding screen name of tweet sender\n",
    "            for r in d['hashtags']:\n",
    "                 features_freq[r['text']]+=1.0 #adding hashtag's frequencies\n",
    "            for r1 in d['urls']:\n",
    "                features_freq[r1['expanded_url']]+=1.0 #Adding URL frequencies\n",
    "            text_tok=unicode(d['text']).lower()\n",
    "            list_tok=tknzr.tokenize(text_tok)\n",
    "            for tok in list_tok:\n",
    "                if tok.isalpha():\n",
    "                    features_freq[tok]+=1.0"
   ]
  },
  {
   "cell_type": "markdown",
   "metadata": {},
   "source": [
    "Making a list of unique features to use for populatin adjacency matrix"
   ]
  },
  {
   "cell_type": "code",
   "execution_count": 20,
   "metadata": {
    "collapsed": true
   },
   "outputs": [],
   "source": [
    "features_list=[]\n",
    "for f in features_freq:\n",
    "    features_list.append(f)"
   ]
  },
  {
   "cell_type": "markdown",
   "metadata": {},
   "source": [
    "Adding each tweet to a list of tweets and assigning each tweet with corresponding features in a adjacency matrix.\n",
    "The adjacency matrix is a sparse matrix from scipy(lil_matrix) to account for large feature list and tweets."
   ]
  },
  {
   "cell_type": "code",
   "execution_count": 21,
   "metadata": {
    "collapsed": false
   },
   "outputs": [],
   "source": [
    "tweet_list=[] #List of Tweet IDs \n",
    "tweet_dict={} #Dictionary of tweet ID corrsponding to the text for final result\n",
    "\n",
    "adj_mat1=lil_matrix((len(features_list),count_tweets),dtype=numpy.float) #Adjaceny matrix for Tweet and FeatureList\n",
    "\n",
    "count=-1\n",
    "for line1 in data_python:\n",
    "    d1 = ast.literal_eval(line1)\n",
    "    if d1['location']=='CO':\n",
    "        count+=1 \n",
    "        tweet_list.append(d1['id'])\n",
    "        tweet_dict[d1['id']]=d1['text']\n",
    "        for r in d1['hashtags']:\n",
    "            adj_mat1[features_list.index(r['text']),count]=1\n",
    "        for r1 in d1['urls']:\n",
    "            adj_mat1[features_list.index(r1['expanded_url']),count]=1\n",
    "        adj_mat1[features_list.index(d1['name']),count]=1\n",
    "        text_tok1=unicode(d1['text']).lower()\n",
    "        list_tok1=tknzr.tokenize(text_tok1)\n",
    "        for tok1 in list_tok1:\n",
    "            if tok1.isalpha():\n",
    "                 adj_mat1[features_list.index(tok1),count]=1"
   ]
  },
  {
   "cell_type": "markdown",
   "metadata": {},
   "source": [
    "Populating a tweet-tweet adjacency matrix for modelling a reply relationship  "
   ]
  },
  {
   "cell_type": "code",
   "execution_count": 22,
   "metadata": {
    "collapsed": false
   },
   "outputs": [],
   "source": [
    "adj_mat2=lil_matrix((count_tweets,count_tweets),dtype=numpy.float)\n",
    "for tw in data_python:\n",
    "    t1=ast.literal_eval((tw))\n",
    "    if t1['location']=='CO':\n",
    "        rep_id=t1['reply']\n",
    "        if rep_id is not None:\n",
    "            if unicode(rep_id) in tweet_list:\n",
    "                ind1=tweet_list.index(t1['id'])\n",
    "                ind2=tweet_list.index(unicode(rep_id))\n",
    "                adj_mat2[ind1,ind2]=1\n",
    "                adj_mat2[ind2,ind1]=1"
   ]
  },
  {
   "cell_type": "markdown",
   "metadata": {},
   "source": [
    "Converting Feature frequencies to a Diagonal Matrix(Df)"
   ]
  },
  {
   "cell_type": "code",
   "execution_count": 23,
   "metadata": {
    "collapsed": false
   },
   "outputs": [],
   "source": [
    "idf_arr=numpy.zeros(len(features_list),dtype=numpy.float)\n",
    "for i in range(0,len(features_list)):\n",
    "    idf_arr[i]=1.0/features_freq[features_list[i]]\n",
    "Df=lil_matrix((len(features_list),len(features_list)),dtype=numpy.float)\n",
    "Df.setdiag(idf_arr)"
   ]
  },
  {
   "cell_type": "code",
   "execution_count": 24,
   "metadata": {
    "collapsed": true
   },
   "outputs": [],
   "source": [
    "wt_tweets=numpy.zeros(count_tweets,dtype=numpy.float) #1D Array for tweet weights \n",
    "wt_features=numpy.zeros(len(features_list),dtype=numpy.float) #1D array for feature weights"
   ]
  },
  {
   "cell_type": "markdown",
   "metadata": {},
   "source": [
    "Populating set of Tweets in seed-query. That is every tweet which contains tweets"
   ]
  },
  {
   "cell_type": "code",
   "execution_count": 25,
   "metadata": {
    "collapsed": true
   },
   "outputs": [],
   "source": [
    "seed_query=[u'violación',u'UNICEF',u'abuso',u'mujer'] #Seed Query terms\n",
    "\n",
    "Tr=set()\n",
    "for i in range(0,len(tweet_list)):\n",
    "    for j in range(0,len(features_list)):\n",
    "        if adj_mat1[j,i]==1:\n",
    "            for sed in seed_query:\n",
    "                #print sed\n",
    "                #print features_list[j]\n",
    "                if sed==features_list[j]:\n",
    "                    Tr.add(i)\n",
    "                    wt_tweets[i]=1.0"
   ]
  },
  {
   "cell_type": "markdown",
   "metadata": {},
   "source": [
    "Printing Initial Set of Seed Queries"
   ]
  },
  {
   "cell_type": "code",
   "execution_count": 26,
   "metadata": {
    "collapsed": false
   },
   "outputs": [
    {
     "name": "stdout",
     "output_type": "stream",
     "text": [
      "Como es posible que si vas con tu mujer, en un SITP con un solo puesto libre, la hagas sentar en el piso para que tu te sientes en la silla!\n",
      "Hoy NO es el día de las velitas. Es el día de la Virgen Inmaculada, única mujer que ha concebido sin pasar por el p… https://t.co/aPg3tCeqk7\n",
      "Usted puede ser la niña mas linda, la mujer mas hermosa, pero si usted es o tiene delirios de ñera, no se me puede hacer atractiva\n",
      "Ella Mi Reina Mi Gran Mujer La Dueña De Mi Mundo Este Amor Qué No… https://t.co/bFUlAbEald\n",
      "@CaracolRadio DESPUES DE ESCUCHAR  ESTA ENTREVISTA EN CARACOL RADIO  ,   CORROBORO  QUE @SILVIACORZO  ES UNA MUJER  \"EXTRAORDINARIA \"\n",
      "Me gusta la mujer que es frentera y no disimula 🎤\n",
      "\"El reggaeton denigra a la mujer\"\n",
      "- una morronga tercermundista que es moza o le acepta la moza al marido \n",
      "\n",
      "Lol la ignorancia😩\n",
      "En San Cristóbal una mujer entrega en adopción a perros y gatos porque tiene que desalojar su casa. Informes en este teléfono 3102346729.\n",
      "@AngieMmp buena decisión sabia mujer\n",
      "Es una mierda no tener tiempo ni de hablar con la mujer que amas.\n",
      "Hay que ser muy bruto para pensar que la causa de la violencia contra la mujer tiene que ver con un hijueputa genero musical.\n",
      "4babys is the new Dame tu mujer José\n",
      "@Manuel_Teodoro denunciar, a pesar q el sistema judicial revictimice , en #Colombia el respeto hacia la mujer se queda en comerciales\n",
      "Esta mujer y su cantidad de frustraciones QUE PESAR!! 😪😂😂😆😆😆\n"
     ]
    }
   ],
   "source": [
    "for t in Tr:\n",
    "    print tweet_dict[tweet_list[t]]"
   ]
  },
  {
   "cell_type": "markdown",
   "metadata": {},
   "source": [
    "Defining Functions to find the max weight and minimum weight from set of tweets"
   ]
  },
  {
   "cell_type": "code",
   "execution_count": 27,
   "metadata": {
    "collapsed": true
   },
   "outputs": [],
   "source": [
    "def max_wt(s1,wt1,ind):\n",
    "    wt=-1.0\n",
    "    for s in s1:\n",
    "        if wt1[s]>wt:\n",
    "            wt=wt1[s]\n",
    "            ind=s\n",
    "    return wt,ind\n",
    "\n",
    "def min_wt(s1,wt1,ind):\n",
    "    wt=5000\n",
    "    for s in s1:\n",
    "        if wt1[s]<wt:\n",
    "            wt=wt1[s]\n",
    "            ind=s\n",
    "    return wt,ind"
   ]
  },
  {
   "cell_type": "markdown",
   "metadata": {},
   "source": [
    "Actual DQE algorithm to swap out the tweets which are lesser weighted from final set of expanded queries"
   ]
  },
  {
   "cell_type": "code",
   "execution_count": 28,
   "metadata": {
    "collapsed": true
   },
   "outputs": [],
   "source": [
    "delta=1.0\n",
    "\n",
    "while(delta>0.0):\n",
    "    Tr2=set()\n",
    "    for ct in range(0,count_tweets):\n",
    "        if ct not in Tr:\n",
    "            Tr2.add(ct)\n",
    "    delt=1.0\n",
    "    while(delt>0.0):\n",
    "        ind1=-1\n",
    "        min_w,ind1=min_wt(Tr,wt_tweets,ind1)\n",
    "        ind2=-1\n",
    "        max_w,ind2=max_wt(Tr2,wt_tweets,ind2)\n",
    "        if(max_w>min_w):\n",
    "            Tr.remove(ind1)\n",
    "            Tr2.add(ind1)\n",
    "            Tr.add(ind2)\n",
    "            Tr2.remove(ind2)\n",
    "        else:\n",
    "            delt=0.0\n",
    "    \n",
    "    wt_temp=Df.dot(adj_mat1.tocsr())\n",
    "    wt_features=wt_temp.dot(wt_tweets.transpose()) #Updating features\n",
    "    wt_tweets=adj_mat1.tocsr().transpose().dot(wt_features)+(0.5*adj_mat2.dot(wt_tweets))\n",
    "    wt_tweets = wt_tweets / wt_tweets.max(axis=0) #Updating tweets\n",
    "    m,w=max_wt(Tr2,wt_tweets,-1)\n",
    "    m1,w1=min_wt(Tr,wt_tweets,-1)\n",
    "    delta=m-m1"
   ]
  },
  {
   "cell_type": "markdown",
   "metadata": {},
   "source": [
    "Printing Final results"
   ]
  },
  {
   "cell_type": "code",
   "execution_count": 29,
   "metadata": {
    "collapsed": false
   },
   "outputs": [
    {
     "name": "stdout",
     "output_type": "stream",
     "text": [
      "Como es posible que si vas con tu mujer, en un SITP con un solo puesto libre, la hagas sentar en el piso para que tu te sientes en la silla!\n",
      "Hoy NO es el día de las velitas. Es el día de la Virgen Inmaculada, única mujer que ha concebido sin pasar por el p… https://t.co/aPg3tCeqk7\n",
      "Usted puede ser la niña mas linda, la mujer mas hermosa, pero si usted es o tiene delirios de ñera, no se me puede hacer atractiva\n",
      "Ella Mi Reina Mi Gran Mujer La Dueña De Mi Mundo Este Amor Qué No… https://t.co/bFUlAbEald\n",
      "@CaracolRadio DESPUES DE ESCUCHAR  ESTA ENTREVISTA EN CARACOL RADIO  ,   CORROBORO  QUE @SILVIACORZO  ES UNA MUJER  \"EXTRAORDINARIA \"\n",
      "Me gusta la mujer que es frentera y no disimula 🎤\n",
      "\"El reggaeton denigra a la mujer\"\n",
      "- una morronga tercermundista que es moza o le acepta la moza al marido \n",
      "\n",
      "Lol la ignorancia😩\n",
      "En San Cristóbal una mujer entrega en adopción a perros y gatos porque tiene que desalojar su casa. Informes en este teléfono 3102346729.\n",
      "@AngieMmp buena decisión sabia mujer\n",
      "Es una mierda no tener tiempo ni de hablar con la mujer que amas.\n",
      "Hay que ser muy bruto para pensar que la causa de la violencia contra la mujer tiene que ver con un hijueputa genero musical.\n",
      "4babys is the new Dame tu mujer José\n",
      "@Manuel_Teodoro denunciar, a pesar q el sistema judicial revictimice , en #Colombia el respeto hacia la mujer se queda en comerciales\n",
      "Esta mujer y su cantidad de frustraciones QUE PESAR!! 😪😂😂😆😆😆\n"
     ]
    }
   ],
   "source": [
    "for t in Tr:\n",
    "    print tweet_dict[tweet_list[t]]"
   ]
  },
  {
   "cell_type": "code",
   "execution_count": null,
   "metadata": {
    "collapsed": true
   },
   "outputs": [],
   "source": []
  }
 ],
 "metadata": {
  "kernelspec": {
   "display_name": "Python 2",
   "language": "python",
   "name": "python2"
  },
  "language_info": {
   "codemirror_mode": {
    "name": "ipython",
    "version": 2
   },
   "file_extension": ".py",
   "mimetype": "text/x-python",
   "name": "python",
   "nbconvert_exporter": "python",
   "pygments_lexer": "ipython2",
   "version": "2.7.6"
  }
 },
 "nbformat": 4,
 "nbformat_minor": 2
}
